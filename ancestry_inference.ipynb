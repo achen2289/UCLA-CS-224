{
 "cells": [
  {
   "cell_type": "code",
   "execution_count": 87,
   "id": "a40d4cd6",
   "metadata": {},
   "outputs": [],
   "source": [
    "import os\n",
    "import numpy as np \n",
    "import pandas as pd"
   ]
  },
  {
   "cell_type": "code",
   "execution_count": 88,
   "id": "c1ba6dad",
   "metadata": {},
   "outputs": [],
   "source": [
    "X_train = pd.read_csv(\"data/ancestry_train.data\", sep = \" \", header=None).values\n",
    "y_train = pd.read_csv(\"data/ancestry_train.solution\", sep = \" \", header=None).values\n",
    "\n",
    "X_test = pd.read_csv(\"data/ancestry_test.data\", sep = \" \", header=None).values"
   ]
  },
  {
   "cell_type": "code",
   "execution_count": 89,
   "id": "df617cf5",
   "metadata": {},
   "outputs": [
    {
     "data": {
      "text/plain": [
       "array([[0, 0, 0, ..., 1, 0, 0],\n",
       "       [1, 0, 0, ..., 0, 0, 0],\n",
       "       [0, 0, 0, ..., 1, 0, 0],\n",
       "       ...,\n",
       "       [0, 0, 0, ..., 0, 1, 0],\n",
       "       [0, 0, 0, ..., 1, 0, 0],\n",
       "       [0, 0, 1, ..., 0, 0, 0]])"
      ]
     },
     "execution_count": 89,
     "metadata": {},
     "output_type": "execute_result"
    }
   ],
   "source": [
    "X_train"
   ]
  },
  {
   "cell_type": "code",
   "execution_count": 90,
   "id": "bfa095d9",
   "metadata": {},
   "outputs": [
    {
     "data": {
      "text/plain": [
       "array([[0.198, 0.75 , 0.052],\n",
       "       [0.858, 0.142, 0.   ],\n",
       "       [0.761, 0.237, 0.001],\n",
       "       ...,\n",
       "       [0.001, 0.183, 0.817],\n",
       "       [0.016, 0.591, 0.393],\n",
       "       [0.   , 0.007, 0.993]])"
      ]
     },
     "execution_count": 90,
     "metadata": {},
     "output_type": "execute_result"
    }
   ],
   "source": [
    "np.round(y_train, 3)"
   ]
  },
  {
   "cell_type": "code",
   "execution_count": 91,
   "id": "79f57150",
   "metadata": {},
   "outputs": [
    {
     "data": {
      "text/plain": [
       "array([[0, 0, 0, ..., 0, 0, 0],\n",
       "       [1, 0, 0, ..., 0, 2, 0],\n",
       "       [0, 0, 1, ..., 0, 0, 0],\n",
       "       ...,\n",
       "       [0, 0, 0, ..., 2, 1, 1],\n",
       "       [0, 0, 2, ..., 0, 0, 1],\n",
       "       [0, 0, 0, ..., 0, 0, 0]])"
      ]
     },
     "execution_count": 91,
     "metadata": {},
     "output_type": "execute_result"
    }
   ],
   "source": [
    "X_test"
   ]
  },
  {
   "cell_type": "markdown",
   "id": "7de22ea6",
   "metadata": {},
   "source": [
    "# cost function"
   ]
  },
  {
   "cell_type": "code",
   "execution_count": 92,
   "id": "6691a176",
   "metadata": {},
   "outputs": [],
   "source": [
    "def cost(y_true, y_hat):\n",
    "    mse = -np.log10(np.mean((y_true-y_hat)**2)+1e-5)\n",
    "    return(mse)"
   ]
  },
  {
   "cell_type": "markdown",
   "id": "8c2c9558",
   "metadata": {},
   "source": [
    "# baseline"
   ]
  },
  {
   "cell_type": "code",
   "execution_count": 93,
   "id": "fa4a7319",
   "metadata": {},
   "outputs": [],
   "source": [
    "from sklearn.linear_model import Ridge\n",
    "\n",
    "X_train_clean = []\n",
    "\n",
    "for row in X_train:\n",
    "    zero, one, two = 0, 0, 0\n",
    "    for snp in row:\n",
    "        if snp == 0:\n",
    "            zero += 1\n",
    "        elif snp == 1:\n",
    "            one += 1\n",
    "        elif snp == 2:\n",
    "            two += 1\n",
    "    X_train_clean.append([zero, one, two])\n",
    "\n",
    "X_test_clean = []\n",
    "\n",
    "for row in X_test:\n",
    "    zero, one, two = 0, 0, 0\n",
    "    for snp in row:\n",
    "        if snp == 0:\n",
    "            zero += 1\n",
    "        elif snp == 1:\n",
    "            one += 1\n",
    "        elif snp == 2:\n",
    "            two += 1\n",
    "    X_test_clean.append([zero, one, two])"
   ]
  },
  {
   "cell_type": "code",
   "execution_count": 94,
   "id": "7760b318",
   "metadata": {},
   "outputs": [],
   "source": [
    "# y_test = np.ones((X_test.shape[0], y_train.shape[1])) * (1/3)\n",
    "\n",
    "# from sklearn.neighbors import KNeighborsRegressor\n",
    "\n",
    "# # clf = Ridge(alpha=1000)\n",
    "# clf = KNeighborsRegressor(1500)\n",
    "\n",
    "# clf.fit(X_train, y_train)\n",
    "# y_test = clf.predict(X_test)\n",
    "\n",
    "# base = np.ones((y_train.shape[0], y_train.shape[1])) * (1/3)\n",
    "# cost(y_train, base)"
   ]
  },
  {
   "cell_type": "code",
   "execution_count": 141,
   "id": "3c8f021c",
   "metadata": {},
   "outputs": [
    {
     "name": "stdout",
     "output_type": "stream",
     "text": [
      "Epoch 1/10\n",
      "1250/1250 [==============================] - 5s 3ms/step - loss: 0.0037 - mae: 0.0372\n",
      "Epoch 2/10\n",
      "1250/1250 [==============================] - 4s 3ms/step - loss: 0.0024 - mae: 0.0306\n",
      "Epoch 3/10\n",
      "1250/1250 [==============================] - 4s 3ms/step - loss: 0.0022 - mae: 0.0293\n",
      "Epoch 4/10\n",
      "1250/1250 [==============================] - 4s 3ms/step - loss: 0.0021 - mae: 0.0284\n",
      "Epoch 5/10\n",
      "1250/1250 [==============================] - 4s 3ms/step - loss: 0.0019 - mae: 0.0275\n",
      "Epoch 6/10\n",
      "1250/1250 [==============================] - 4s 3ms/step - loss: 0.0018 - mae: 0.0268\n",
      "Epoch 7/10\n",
      "1250/1250 [==============================] - 4s 3ms/step - loss: 0.0017 - mae: 0.0258\n",
      "Epoch 8/10\n",
      "1250/1250 [==============================] - 4s 3ms/step - loss: 0.0015 - mae: 0.0243\n",
      "Epoch 9/10\n",
      "1250/1250 [==============================] - 4s 3ms/step - loss: 0.0014 - mae: 0.0231\n",
      "Epoch 10/10\n",
      "1250/1250 [==============================] - 4s 3ms/step - loss: 0.0012 - mae: 0.0216\n",
      "313/313 [==============================] - 1s 2ms/step\n"
     ]
    }
   ],
   "source": [
    "import tensorflow as tf\n",
    "\n",
    "model = tf.keras.models.Sequential()\n",
    "model.add(tf.keras.layers.InputLayer(input_shape=(500, )))\n",
    "# model.add(tf.keras.layers.Dense(256, activation='relu'))\n",
    "model.add(tf.keras.layers.Dense(128, activation='relu'))\n",
    "# model.add(tf.keras.layers.Dense(100, activation='relu'))\n",
    "# model.add(tf.keras.layers.Dense(64, activation='relu'))\n",
    "model.add(tf.keras.layers.Dense(32, activation='relu'))\n",
    "model.add(tf.keras.layers.Dense(16, activation='relu'))\n",
    "model.add(tf.keras.layers.Dense(3, activation='softmax'))\n",
    "model.compile(loss='mse', optimizer='adam', metrics=['mae'])\n",
    "model.fit(X_train, y_train, epochs=10)\n",
    "\n",
    "y_test = model.predict(X_test)"
   ]
  },
  {
   "cell_type": "markdown",
   "id": "4bc7ee63",
   "metadata": {},
   "source": [
    "# save and zip the file"
   ]
  },
  {
   "cell_type": "code",
   "execution_count": 142,
   "id": "d6e6ff83",
   "metadata": {},
   "outputs": [
    {
     "name": "stdout",
     "output_type": "stream",
     "text": [
      "updating: predictions.csv (deflated 56%)\n"
     ]
    },
    {
     "data": {
      "text/plain": [
       "0"
      ]
     },
     "execution_count": 142,
     "metadata": {},
     "output_type": "execute_result"
    }
   ],
   "source": [
    "pd.DataFrame(y_test).to_csv(f\"predictions.csv\", sep = \" \", header = None, index = None)\n",
    "os.system(\"zip -r predictions.zip predictions.csv\")"
   ]
  },
  {
   "cell_type": "code",
   "execution_count": null,
   "id": "5b49a899",
   "metadata": {},
   "outputs": [],
   "source": []
  },
  {
   "cell_type": "code",
   "execution_count": null,
   "id": "0c32fb15",
   "metadata": {},
   "outputs": [],
   "source": []
  },
  {
   "cell_type": "code",
   "execution_count": null,
   "id": "e8b83d3c",
   "metadata": {},
   "outputs": [],
   "source": []
  },
  {
   "cell_type": "code",
   "execution_count": null,
   "id": "a407dc59",
   "metadata": {},
   "outputs": [],
   "source": []
  },
  {
   "cell_type": "code",
   "execution_count": null,
   "id": "39a0f503",
   "metadata": {},
   "outputs": [],
   "source": []
  },
  {
   "cell_type": "code",
   "execution_count": null,
   "id": "90203cd0",
   "metadata": {},
   "outputs": [],
   "source": []
  },
  {
   "cell_type": "code",
   "execution_count": null,
   "id": "f3873e69",
   "metadata": {},
   "outputs": [],
   "source": []
  }
 ],
 "metadata": {
  "kernelspec": {
   "display_name": "Python 3 (ipykernel)",
   "language": "python",
   "name": "python3"
  },
  "language_info": {
   "codemirror_mode": {
    "name": "ipython",
    "version": 3
   },
   "file_extension": ".py",
   "mimetype": "text/x-python",
   "name": "python",
   "nbconvert_exporter": "python",
   "pygments_lexer": "ipython3",
   "version": "3.9.12"
  }
 },
 "nbformat": 4,
 "nbformat_minor": 5
}
