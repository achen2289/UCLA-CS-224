{
 "cells": [
  {
   "cell_type": "code",
   "execution_count": 124,
   "id": "a40d4cd6",
   "metadata": {},
   "outputs": [],
   "source": [
    "import os\n",
    "import numpy as np \n",
    "import pandas as pd"
   ]
  },
  {
   "cell_type": "code",
   "execution_count": 125,
   "id": "c1ba6dad",
   "metadata": {},
   "outputs": [],
   "source": [
    "X_train = pd.read_csv(\"data/train.genotype.txt\", sep = \" \", header=None).values\n",
    "y_train = pd.read_csv(\"data/train.phenotype.txt\", sep = \" \", header=None).values\n",
    "X_test = pd.read_csv(\"data/test.genotype.txt\", sep = \" \", header=None).values"
   ]
  },
  {
   "cell_type": "code",
   "execution_count": 126,
   "id": "df617cf5",
   "metadata": {},
   "outputs": [
    {
     "data": {
      "text/plain": [
       "array([[0, 2, 1, ..., 0, 0, 2],\n",
       "       [0, 1, 0, ..., 0, 0, 2],\n",
       "       [0, 1, 2, ..., 0, 0, 1],\n",
       "       ...,\n",
       "       [0, 2, 1, ..., 0, 0, 1],\n",
       "       [0, 1, 2, ..., 0, 0, 1],\n",
       "       [0, 2, 2, ..., 1, 0, 2]])"
      ]
     },
     "execution_count": 126,
     "metadata": {},
     "output_type": "execute_result"
    }
   ],
   "source": [
    "X_train"
   ]
  },
  {
   "cell_type": "code",
   "execution_count": 127,
   "id": "bfa095d9",
   "metadata": {},
   "outputs": [
    {
     "data": {
      "text/plain": [
       "array([[-1.445386],\n",
       "       [-0.627935],\n",
       "       [-1.013429],\n",
       "       ...,\n",
       "       [ 0.349022],\n",
       "       [ 0.789777],\n",
       "       [-0.25892 ]])"
      ]
     },
     "execution_count": 127,
     "metadata": {},
     "output_type": "execute_result"
    }
   ],
   "source": [
    "y_train"
   ]
  },
  {
   "cell_type": "code",
   "execution_count": 128,
   "id": "79f57150",
   "metadata": {},
   "outputs": [
    {
     "data": {
      "text/plain": [
       "array([[0, 2, 1, ..., 0, 0, 1],\n",
       "       [0, 2, 1, ..., 0, 0, 2],\n",
       "       [0, 1, 1, ..., 1, 0, 2],\n",
       "       ...,\n",
       "       [0, 2, 2, ..., 0, 0, 2],\n",
       "       [0, 1, 2, ..., 1, 0, 1],\n",
       "       [0, 2, 1, ..., 0, 0, 2]])"
      ]
     },
     "execution_count": 128,
     "metadata": {},
     "output_type": "execute_result"
    }
   ],
   "source": [
    "X_test"
   ]
  },
  {
   "cell_type": "markdown",
   "id": "7de22ea6",
   "metadata": {},
   "source": [
    "# cost function"
   ]
  },
  {
   "cell_type": "code",
   "execution_count": 129,
   "id": "6691a176",
   "metadata": {},
   "outputs": [],
   "source": [
    "def cost(y_true, y_hat):\n",
    "    mse = -np.log10(np.mean((y_true-y_hat)**2)+1e-5)\n",
    "    return(mse)"
   ]
  },
  {
   "cell_type": "markdown",
   "id": "8c2c9558",
   "metadata": {},
   "source": [
    "# baseline"
   ]
  },
  {
   "cell_type": "code",
   "execution_count": 130,
   "id": "fa4a7319",
   "metadata": {},
   "outputs": [
    {
     "name": "stdout",
     "output_type": "stream",
     "text": [
      "[  0   6  22  54  59 131 148 155 177]\n",
      "[  6  22  31  54  59 131 177]\n",
      "[31]\n"
     ]
    }
   ],
   "source": [
    "from sklearn.linear_model import LinearRegression\n",
    "from sklearn.preprocessing import PolynomialFeatures\n",
    "import statsmodels.api as sm\n",
    "\n",
    "# X_train = sm.add_constant(X_train)\n",
    "# X_test = sm.add_constant(X_test)\n",
    "\n",
    "# Find significant features that fit linear model\n",
    "model = sm.OLS(y_train, X_train)\n",
    "results_linear = model.fit()\n",
    "significant_features_linear = results_linear.pvalues < 0.005\n",
    "indices_of_significant_features_linear = np.where(significant_features_linear)[0]\n",
    "\n",
    "print (indices_of_significant_features_linear)\n",
    "\n",
    "# Transform X data in preparation for quadratic regression\n",
    "# X_train_quad = np.column_stack((X_train, X_train ** 2))\n",
    "# X_test_quad = np.column_stack((X_test, X_test ** 2))\n",
    "X_train_quad = X_train ** 3\n",
    "X_test_quad = X_test ** 3\n",
    "\n",
    "# Find significant features that fit quadratic model\n",
    "model = sm.OLS(y_train, X_train_quad)\n",
    "results_quad = model.fit()\n",
    "significant_features_quad = results_quad.pvalues < 0.005\n",
    "indices_of_significant_features_quad = np.where(significant_features_quad)[0]\n",
    "\n",
    "print (indices_of_significant_features_quad)\n",
    "\n",
    "# # Filter out features that are both significant in linear and quadratic model\n",
    "# new_indices_of_significant_features_linear = indices_of_significant_features_linear\n",
    "# for val in indices_of_significant_features_linear:\n",
    "#     if val in indices_of_significant_features_quad:\n",
    "#         new_indices_of_significant_features_linear = new_indices_of_significant_features_linear[new_indices_of_significant_features_linear != val]\n",
    "# indices_of_significant_features_linear = new_indices_of_significant_features_linear\n",
    "\n",
    "# print (indices_of_significant_features_linear)\n",
    "\n",
    "# Filter out features that are both significant in linear and quadratic model\n",
    "new_indices_of_significant_features_quad = indices_of_significant_features_quad\n",
    "for val in indices_of_significant_features_quad:\n",
    "    if val in indices_of_significant_features_linear:\n",
    "        new_indices_of_significant_features_quad = new_indices_of_significant_features_quad[new_indices_of_significant_features_quad != val]\n",
    "indices_of_significant_features_quad = new_indices_of_significant_features_quad\n",
    "\n",
    "print (indices_of_significant_features_quad)\n",
    "\n",
    "# Ensure no overlapping features\n",
    "assert len(np.intersect1d(indices_of_significant_features_linear, indices_of_significant_features_quad)) == 0\n",
    "\n",
    "# Get features based on significance in linear model\n",
    "X_train_significant_linear = X_train[:, indices_of_significant_features_linear]\n",
    "X_test_significant_linear = X_test[:, indices_of_significant_features_linear]\n",
    "\n",
    "# Get features based on significance in quadratic model\n",
    "X_train_significant_quad = X_train_quad[:, indices_of_significant_features_quad]\n",
    "X_test_significant_quad = X_test_quad[:, indices_of_significant_features_quad]\n"
   ]
  },
  {
   "cell_type": "code",
   "execution_count": 131,
   "metadata": {},
   "outputs": [
    {
     "name": "stdout",
     "output_type": "stream",
     "text": [
      "[[ 1  4  9]\n",
      " [16 25 36]]\n"
     ]
    }
   ],
   "source": [
    "\"\"\"Testing code block.\"\"\"\n",
    "\n",
    "X = np.array([[1, 2, 3], [4, 5, 6]])  # Linear term\n",
    "X_squared = X**2        # Quadratic term\n",
    "\n",
    "# Using np.column_stack to combine linear and quadratic terms\n",
    "X_combined = X_squared\n",
    "print (X_combined)\n",
    "\n",
    "# print(X_combined)"
   ]
  },
  {
   "cell_type": "code",
   "execution_count": 132,
   "metadata": {},
   "outputs": [],
   "source": [
    "# # Go through nonsignificant features and transform to include interaction term\n",
    "# indices_of_nonsignificant_features = [i for i in range(len(X_train[0])) if i not in indices_of_significant_features_quad and i not in indices_of_significant_features_linear]\n",
    "# indices_of_nonsignificant_features = [i for i in range(len(X_train[0]))]\n",
    "# X_train_nonsignificant = X_train[:, indices_of_nonsignificant_features]\n",
    "# X_test_nonsignificant = X_test[:, indices_of_nonsignificant_features]\n",
    "\n",
    "# poly = PolynomialFeatures(interaction_only=True, include_bias=False)\n",
    "# X_train_nonsignificant_interaction = poly.fit_transform(X_train_nonsignificant)\n",
    "# X_test_nonsignificant_interaction = poly.fit_transform(X_test_nonsignificant)\n",
    "\n",
    "# print (X_train_nonsignificant_interaction[0])\n",
    "\n",
    "# model = sm.OLS(y_train, X_train_nonsignificant_interaction)\n",
    "# results_interaction = model.fit()\n",
    "# significant_features_interaction = results_interaction.pvalues < 0.020\n",
    "# indices_of_significant_features_interaction = np.where(significant_features_interaction)[0]\n",
    "\n",
    "# X_train_significant_interaction = X_train_nonsignificant_interaction[:, indices_of_significant_features_interaction]\n",
    "# X_test_significant_interaction = X_test_nonsignificant_interaction[:, indices_of_significant_features_interaction]\n"
   ]
  },
  {
   "cell_type": "code",
   "execution_count": 133,
   "metadata": {},
   "outputs": [],
   "source": [
    "# Combine features in preparation for retraining\n",
    "# X_train_significant = np.column_stack((X_train_significant_linear, X_train_significant_quad, X_train_significant_interaction))\n",
    "# X_test_significant = np.column_stack((X_test_significant_linear, X_test_significant_quad, X_test_significant_interaction))\n",
    "\n",
    "X_train_significant = sm.add_constant(X_train_significant)\n",
    "X_test_significant = sm.add_constant(X_test_significant)\n",
    "\n",
    "X_train_significant = np.column_stack((X_train_significant_linear, X_train_significant_quad))\n",
    "X_test_significant = np.column_stack((X_test_significant_linear, X_test_significant_quad))\n",
    "\n",
    "# Train model based on features significant in both linear and quadratic model\n",
    "model_significant = sm.OLS(y_train, X_train_significant)\n",
    "results_significant = model_significant.fit()\n",
    "\n",
    "# Make predictions using these new significant features\n",
    "y_pred_significant = results_significant.predict(X_test_significant)\n",
    "\n",
    "y_test = y_pred_significant"
   ]
  },
  {
   "cell_type": "markdown",
   "id": "4bc7ee63",
   "metadata": {},
   "source": [
    "# save and zip the file"
   ]
  },
  {
   "cell_type": "code",
   "execution_count": 134,
   "id": "d6e6ff83",
   "metadata": {},
   "outputs": [
    {
     "name": "stdout",
     "output_type": "stream",
     "text": [
      "updating: predictions.csv (deflated 69%)\n"
     ]
    },
    {
     "data": {
      "text/plain": [
       "0"
      ]
     },
     "execution_count": 134,
     "metadata": {},
     "output_type": "execute_result"
    }
   ],
   "source": [
    "pd.DataFrame(y_test).to_csv(f\"predictions.csv\", sep = \" \", header = None, index = None)\n",
    "os.system(\"zip -r predictions.zip predictions.csv\")"
   ]
  }
 ],
 "metadata": {
  "kernelspec": {
   "display_name": "Python 3 (ipykernel)",
   "language": "python",
   "name": "python3"
  },
  "language_info": {
   "codemirror_mode": {
    "name": "ipython",
    "version": 3
   },
   "file_extension": ".py",
   "mimetype": "text/x-python",
   "name": "python",
   "nbconvert_exporter": "python",
   "pygments_lexer": "ipython3",
   "version": "3.9.12"
  }
 },
 "nbformat": 4,
 "nbformat_minor": 5
}
